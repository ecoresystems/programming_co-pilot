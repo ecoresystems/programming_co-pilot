{
 "cells": [
  {
   "cell_type": "code",
   "execution_count": 15,
   "metadata": {},
   "outputs": [],
   "source": [
    "file = open('org_output.txt','r',encoding='utf-8')"
   ]
  },
  {
   "cell_type": "code",
   "execution_count": 6,
   "metadata": {},
   "outputs": [],
   "source": [
    "for row in file:\n",
    "    if 'Processing ID:' in row:\n",
    "        pass\n",
    "    else:\n",
    "        if 'warning' in row:\n",
    "            pass\n",
    "        else:\n",
    "            with open('timing.txt','a',encoding='utf-8') as output_file:\n",
    "                output_file.write(row)\n",
    "        "
   ]
  },
  {
   "cell_type": "code",
   "execution_count": 7,
   "metadata": {},
   "outputs": [
    {
     "data": {
      "text/plain": [
       "'00:00:03'"
      ]
     },
     "execution_count": 7,
     "metadata": {},
     "output_type": "execute_result"
    }
   ],
   "source": [
    "time.strftime(\"%H:%M:%S\", time.gmtime(esp)) "
   ]
  },
  {
   "cell_type": "code",
   "execution_count": 16,
   "metadata": {},
   "outputs": [
    {
     "name": "stdout",
     "output_type": "stream",
     "text": [
      "09:17:50\n"
     ]
    }
   ],
   "source": [
    "import time\n",
    "total_time = 0.0\n",
    "for row in file:\n",
    "    if 'Batch' in row:\n",
    "        total_time += (float(row.split(' ')[6]))\n",
    "#         with open('timing.txt','a',encoding='utf-8') as output_file:\n",
    "#             output_file.write(row)\n",
    "print(time.strftime(\"%H:%M:%S\", time.gmtime(total_time)) )"
   ]
  },
  {
   "cell_type": "code",
   "execution_count": 17,
   "metadata": {},
   "outputs": [],
   "source": [
    "file.close()"
   ]
  },
  {
   "cell_type": "code",
   "execution_count": null,
   "metadata": {},
   "outputs": [],
   "source": []
  }
 ],
 "metadata": {
  "kernelspec": {
   "display_name": "Python 3",
   "language": "python",
   "name": "python3"
  },
  "language_info": {
   "codemirror_mode": {
    "name": "ipython",
    "version": 3
   },
   "file_extension": ".py",
   "mimetype": "text/x-python",
   "name": "python",
   "nbconvert_exporter": "python",
   "pygments_lexer": "ipython3",
   "version": "3.8.5"
  }
 },
 "nbformat": 4,
 "nbformat_minor": 4
}
